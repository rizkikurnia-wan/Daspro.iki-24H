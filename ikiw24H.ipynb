{
 "cells": [
  {
   "cell_type": "code",
   "execution_count": 5,
   "id": "ceb87ee8",
   "metadata": {},
   "outputs": [
    {
     "name": "stdout",
     "output_type": "stream",
     "text": [
      "Nama : rizki\n",
      "Alamat : jl.caringin\n",
      "Umur : 19\n",
      "Nilai pemrograman : 90.7\n",
      "Status Menikah False\n",
      "propinsi : 7413412\n"
     ]
    }
   ],
   "source": [
    "name = \"rizki\"\n",
    "address,province = \"jl.caringin\",\"7413412\"\n",
    "age = 19\n",
    "scorePython = 90.7\n",
    "isMarried = False\n",
    "\n",
    "\n",
    "print (\"Nama :\" ,name)\n",
    "print (\"Alamat :\" ,address)\n",
    "print (\"Umur :\" ,age)\n",
    "print (\"Nilai pemrograman :\",scorePython)\n",
    "print (\"Status Menikah\"  , isMarried)\n",
    "print (\"propinsi :\" , province)\n",
    "\n"
   ]
  },
  {
   "cell_type": "code",
   "execution_count": 3,
   "id": "735d62ac",
   "metadata": {
    "scrolled": true
   },
   "outputs": [
    {
     "name": "stdout",
     "output_type": "stream",
     "text": [
      "Tipe data <name> : <class 'str'>\n",
      "Tipe data <address> <class 'str'>\n",
      "Tipe data <age> <class 'int'>\n",
      "Tipe data <scorePython> : <class 'float'>\n",
      "Tipe data <isMarried> : <class 'bool'>\n"
     ]
    }
   ],
   "source": [
    "print (\"Tipe data <name> :\" , type(name))\n",
    "print (\"Tipe data <address>\" , type(address))\n",
    "print (\"Tipe data <age>\" ,type(age))\n",
    "print (\"Tipe data <scorePython> :\" ,type(scorePython))\n",
    "print (\"Tipe data <isMarried> :\" ,type(isMarried))\n"
   ]
  },
  {
   "cell_type": "code",
   "execution_count": 18,
   "id": "44250cac",
   "metadata": {},
   "outputs": [
    {
     "name": "stdout",
     "output_type": "stream",
     "text": [
      "7413414-7413412.0-True\n",
      "19-19.0-True\n",
      "90.7-90-True\n",
      "False-0-0.0\n"
     ]
    }
   ],
   "source": [
    "#Casting / KOnversi Tipe Data\n",
    "#1. String ke (int,float,boolean)\n",
    "strToInt = int (province)\n",
    "strToFLoat = float (province)\n",
    "strToBool = bool (province)\n",
    "print(strToInt + 2,strToFLoat,strToBool, sep=\"-\")\n",
    "\n",
    "#2. Int ke (str,float,boolean)\n",
    "intToStr = str (age)\n",
    "intToFloat = float (age)\n",
    "intToBool = bool (age)\n",
    "print (intToStr, intToFloat, intToBool, sep=\"-\")\n",
    "\n",
    "#3. float ke (int, str, boolean)\n",
    "floatToStr = str (scorePython)\n",
    "floatToInt = int (scorePython)\n",
    "floatToBool = bool (scorePython)\n",
    "print (floatToStr, floatToInt,floatToBool, sep=\"-\")\n",
    "\n",
    "#4. Bool ke (int, str, boolean)\n",
    "boolToStr =str(isMarried)\n",
    "boolToInt =int (isMarried)\n",
    "boolToFloat = float (isMarried)\n",
    "print (boolToStr, boolToInt, boolToFloat, sep=\"-\")\n",
    "\n"
   ]
  },
  {
   "cell_type": "code",
   "execution_count": 7,
   "id": "ae338692",
   "metadata": {
    "scrolled": true
   },
   "outputs": [
    {
     "name": "stdout",
     "output_type": "stream",
     "text": [
      "Nilai desimal : 500\n",
      " Nilai biner : 10\n",
      " Nilai octal : 255\n",
      " Nilai hexa : 255\n",
      "Nilai biner dari 500 : 0b111110100\n",
      "Nilai octal dari 500 : 0o764\n",
      "Nilai hexa dari 500 : 0x1f4\n"
     ]
    }
   ],
   "source": [
    "#Tipe data basis bilangan (desimal,biner,octal, hexa)\n",
    "\n",
    "desimal = 500\n",
    "biner = 0b1010 #10\n",
    "octal = 0o377 #255\n",
    "hexa = 0xff #255\n",
    "\n",
    "print (\"Nilai desimal :\",desimal)\n",
    "print (\" Nilai biner :\",biner)\n",
    "print (\" Nilai octal :\",octal)\n",
    "print (\" Nilai hexa :\",hexa)\n",
    "\n",
    "print (\"Nilai biner dari\",desimal, \":\" ,bin(desimal))\n",
    "print (\"Nilai octal dari\",desimal, \":\" ,oct(desimal))\n",
    "print (\"Nilai hexa dari\",desimal, \":\" ,hex(desimal))"
   ]
  },
  {
   "cell_type": "code",
   "execution_count": 8,
   "id": "f8669f40",
   "metadata": {},
   "outputs": [
    {
     "name": "stdout",
     "output_type": "stream",
     "text": [
      "B\n",
      "7\n",
      "G\n"
     ]
    }
   ],
   "source": [
    "city = \"BANDUNG\"\n",
    "length = len(city)\n",
    "print (city[0])\n",
    "print (length)\n",
    "print (city[length-1])\n"
   ]
  },
  {
   "cell_type": "code",
   "execution_count": 28,
   "id": "6fd0e787",
   "metadata": {},
   "outputs": [
    {
     "name": "stdout",
     "output_type": "stream",
     "text": [
      "['bandung', 'Sukabumi', 'Bogor', 'Jakarta', 'medan']\n",
      "bandung\n",
      "medan\n",
      "m\n",
      "n\n",
      "['Bali', 'Sukabumi', 'Bogor', 'Jakarta', 'medan']\n",
      "('rizki', 'nisya', 'love')\n",
      "nisya\n",
      "{'name': 'Rizki', 'age': 20, 'address': {'street': 'caringin', 'number': 12, 'province': 'Jawa Barat'}, 'isMarried': True, 'hobbies': ['Basket Ball', 'Football']}\n",
      "20\n",
      "Jawa Barat\n",
      "Basket Ball\n"
     ]
    }
   ],
   "source": [
    "#Tipe data Collection\n",
    "cities =[\"bandung\",\"Sukabumi\",\"Bogor\",\"Jakarta\",\"medan\"]\n",
    "lengthCities = len(cities)\n",
    "print (cities)\n",
    "print (cities[0])\n",
    "print (cities[lengthCities-1])\n",
    "print (cities[lengthCities-1][0])\n",
    "print (cities[lengthCities-1][len(cities[lengthCities-1])-1])\n",
    "cities [0] = \"Bali\"\n",
    "#cities[5] = \"Malang\" akan menyebabkan eror out of range\n",
    "print (cities)\n",
    "\n",
    "names = (\"rizki\",\"nisya\",\"love\")\n",
    "print (names)\n",
    "print (names[1])\n",
    "#names[0] = \"Dedi\" error immutable tuple\n",
    "\n",
    "studentData = {\n",
    "    \"name\" : \"Rizki\",\n",
    "    \"age\": 20,\n",
    "    \"address\" : {\n",
    "        \"street\" : \"caringin\",\n",
    "        \"number\" : 12,\n",
    "        \"province\" : \"Jawa Barat\"\n",
    "    },\n",
    "    \"isMarried\" : True,\n",
    "    \"hobbies\" : [\"Basket Ball\", \"Football\"]\n",
    "    \n",
    "\n",
    "}\n",
    "{\n",
    "    \"name\" : \"Dedi\",\n",
    "    \"age\" : 15,\n",
    "    \"address\" : {\n",
    "        \"street\" : \"Bogor\",\n",
    "        \"number\" : 29,\n",
    "        \"province\" : \"Jawa Barat\"\n",
    "    },\n",
    "    \"isMarried\" : False,\n",
    "    \"hobbies\" : [\"Chess\", \"Singing\"]\n",
    "}\n",
    "\n",
    "\n",
    "\n",
    "print (studentData)\n",
    "print (studentData[\"age\"])\n",
    "print (studentData[\"address\"][\"province\"])\n",
    "print (studentData[\"hobbies\"][0])\n",
    "\n",
    "\n"
   ]
  },
  {
   "cell_type": "code",
   "execution_count": 25,
   "id": "ad8fcb4c",
   "metadata": {},
   "outputs": [
    {
     "name": "stdout",
     "output_type": "stream",
     "text": [
      "{'name': 'andi', 'age': 30, 'Status': True}\n",
      "{'Name': 'Rudi', 'Address': 'Bogor'}\n",
      "{'name': 'tiger', 'Type': 'Mamalia'}\n",
      "{'name': 'Crocodile', 'type': 'Reptile'}\n",
      "{'vehicle': 'car', 'Brand': 'BMW', 'cc': '2500'}\n"
     ]
    }
   ],
   "source": [
    "#Konversi dictionary\n",
    "\n",
    "list_list =[[\"name\",\"andi\"],[\"age\", 30],[\"Status\", True]]\n",
    "dictListStudent = dict (list_list)\n",
    "print (dictListStudent)\n",
    "\n",
    "list_tuple = [(\"Name\",\"Rudi\"),(\"Address\",\"Bogor\")]\n",
    "dictTupleStudent = dict (list_tuple)\n",
    "print (dictTupleStudent)\n",
    "\n",
    "tuple_list = ([\"name\",\"tiger\"],[\"Type\",\"Mamalia\"])\n",
    "dictListAnimal = dict (tuple_list)\n",
    "print (dictListAnimal)\n",
    "\n",
    "tuple_tuple = ((\"name\", \"Crocodile\"), (\"type\", \"Reptile\"))\n",
    "dictTupAnimal = dict(tuple_tuple)\n",
    "print (dictTupAnimal)\n",
    "\n",
    "keys = [ \"vehicle\",\"Brand\" ,\"cc\"]\n",
    "values = [\"car\",\"BMW\", \"2500\"]\n",
    "car = dict(zip(keys,values))\n",
    "print(car)\n",
    "                               "
   ]
  },
  {
   "cell_type": "code",
   "execution_count": null,
   "id": "894abb3c",
   "metadata": {},
   "outputs": [],
   "source": []
  }
 ],
 "metadata": {
  "kernelspec": {
   "display_name": "Python 3 (ipykernel)",
   "language": "python",
   "name": "python3"
  },
  "language_info": {
   "codemirror_mode": {
    "name": "ipython",
    "version": 3
   },
   "file_extension": ".py",
   "mimetype": "text/x-python",
   "name": "python",
   "nbconvert_exporter": "python",
   "pygments_lexer": "ipython3",
   "version": "3.9.12"
  }
 },
 "nbformat": 4,
 "nbformat_minor": 5
}
