{
 "cells": [
  {
   "cell_type": "code",
   "execution_count": 1,
   "id": "fa16d2ee-eba7-446d-8e0c-d53610a9d4a5",
   "metadata": {},
   "outputs": [],
   "source": [
    "# Function untuk membalik setiap kata dalam kalimat tanpa mengubah urutan kata\n",
    "def reverse_per_kata(kalimat):\n",
    "    # Memisahkan kalimat menjadi daftar kata\n",
    "    kata_list = kalimat.split()\n",
    "    # Membalik setiap kata\n",
    "    hasil = []\n",
    "    for kata in kata_list:\n",
    "        hasil.append(kata[::-1])\n",
    "    # Menggabungkan kembali menjadi kalimat\n",
    "    return ' '.join(hasil)\n",
    "\n",
    "# Function untuk mengurutkan kata dalam kalimat berdasarkan urutan indeks yang diberikan\n",
    "def urutkan_kalimat(kalimat, urutan):\n",
    "    # Memisahkan kalimat menjadi daftar kata\n",
    "    kata_list = kalimat.split()\n",
    "    hasil = [''] * len(urutan)\n",
    "    # Menempatkan kata sesuai dengan indeks dari list urutan (dimulai dari 1)\n",
    "    for i in range(len(urutan)):\n",
    "        posisi = urutan[i] - 1  # Konversi ke indeks 0-based\n",
    "        if posisi < len(kata_list):\n",
    "            hasil[i] = kata_list[posisi]\n",
    "    # Menggabungkan kata yang telah diurutkan menjadi kalimat baru\n",
    "    return ' '.join(hasil)\n",
    "\n",
    "# Function untuk mengganti huruf vokal sesuai opsi\n",
    "def ganti_vokal(kalimat, opsi):\n",
    "    # Kamus pengganti vokal\n",
    "    vokal_kecil = {'a': '4', 'i': '1', 'u': '|_|', 'e': '3', 'o': '0'}\n",
    "    vokal_besar = {'A': '4', 'I': '1', 'U': '|_|', 'E': '3', 'O': '0'}\n",
    "\n",
    "    hasil = ''\n",
    "    for huruf in kalimat:\n",
    "        if opsi == 1 and huruf in vokal_kecil:\n",
    "            hasil += vokal_kecil[huruf]\n",
    "        elif opsi == 2 and huruf in vokal_besar:\n",
    "            hasil += vokal_besar[huruf]\n",
    "        else:\n",
    "            hasil += huruf\n",
    "    return hasil\n",
    "\n"
   ]
  },
  {
   "cell_type": "code",
   "execution_count": 2,
   "id": "89839994-4dc3-4a05-b903-9a94b5ad9337",
   "metadata": {},
   "outputs": [
    {
     "name": "stdout",
     "output_type": "stream",
     "text": [
      "ikI akuS namargormeP\n",
      "Pemrograman IKi Suka\n",
      "Ik1 S|_|k4 P3mr0gr4m4n\n",
      "1ki Suka Pemrograman\n"
     ]
    }
   ],
   "source": [
    "# Uji function 1: Membalik setiap kata\n",
    "print(reverse_per_kata(\"Iki Suka Pemrograman\"))\n",
    "# Output: \"Iki Akus namargormeP\"\n",
    "\n",
    "# Uji function 2: Menyusun ulang kata\n",
    "print(urutkan_kalimat(\"IKi Suka Pemrograman\", [3, 1, 2]))\n",
    "# Output: \"Pemrograman Iki Suka\"\n",
    "\n",
    "# Uji function 3: Ganti vokal kecil\n",
    "print(ganti_vokal(\"Iki Suka Pemrograman\", 1))\n",
    "# Output: \"1k1 Suk4 P3mrogram4n\"\n",
    "\n",
    "# Uji function 3: Ganti vokal kapital (tidak ada huruf kapital vokal di sini, jadi tetap)\n",
    "print(ganti_vokal(\"Iki Suka Pemrograman\", 2))\n",
    "# Output: \"Iki Suka Pemrograman\""
   ]
  },
  {
   "cell_type": "code",
   "execution_count": null,
   "id": "f81e1e00-db11-4d4f-a16b-0465fc6095fa",
   "metadata": {},
   "outputs": [],
   "source": []
  }
 ],
 "metadata": {
  "kernelspec": {
   "display_name": "Python 3 (ipykernel)",
   "language": "python",
   "name": "python3"
  },
  "language_info": {
   "codemirror_mode": {
    "name": "ipython",
    "version": 3
   },
   "file_extension": ".py",
   "mimetype": "text/x-python",
   "name": "python",
   "nbconvert_exporter": "python",
   "pygments_lexer": "ipython3",
   "version": "3.12.7"
  }
 },
 "nbformat": 4,
 "nbformat_minor": 5
}
