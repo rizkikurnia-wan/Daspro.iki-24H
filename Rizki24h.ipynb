{
 "cells": [
  {
   "cell_type": "markdown",
   "id": "8524e9b5",
   "metadata": {},
   "source": [
    "<<center><img src=\"https://banner2.cleanpng.com/20181128/cbr/kisspng-python-programming-basics-for-absolute-beginners-michigan-python-user-group-5-jul-2-18-1713916787253.webp\" width=\"200\"></center><br>pada jupyter notebooks jenis <b>cell</b> terbagi menjadi</ol>\n",
    "  <li>m (mark down) -> m</li>\n",
    "  <li>y (code) -> y</li>\n",
    "</ol>\n",
    "<hr>\n",
    "\n"
   ]
  },
  {
   "cell_type": "markdown",
   "id": "cb07a481",
   "metadata": {},
   "source": [
    "Cara menambahkan <b>cell</b> terbagi menjadi 2:\n",
    "<ul>\n",
    "    <li>A -(Abovee) menambah diatas cell aktif </li>\n",
    "    <li>B -(Below) menambah dibawah cell aktif </li>\n",
    "</ul>\n",
    "\n",
    "<table>\n",
    "     <tr>\n",
    "         <td>perintah</td>\n",
    "         <td>keterangan</td>\n",
    "     </tr>\n",
    "     <tr>\n",
    "         <td>ctrl + enter </td>\n",
    "         <td>running program dengan fokus di cell aktif </td>\n",
    "     </tr>\n",
    "     <tr>\n",
    "         <td>shift + enter</td>\n",
    "         <td>Running program dengan fokus di cell berikutnya</td>\n",
    "     </tr>\n",
    "\n",
    "</table>\n",
    "\n"
   ]
  },
  {
   "cell_type": "code",
   "execution_count": null,
   "id": "0ffb780f",
   "metadata": {},
   "outputs": [],
   "source": [
    "# this is coment\n",
    "print(\"python is very easy\")\n",
    "data =\"4\"\n",
    "print(data)\n",
    "data\n",
    "print (\"iki ganteng banget\")"
   ]
  }
 ],
 "metadata": {
  "kernelspec": {
   "display_name": "Python 3 (ipykernel)",
   "language": "python",
   "name": "python3"
  },
  "language_info": {
   "codemirror_mode": {
    "name": "ipython",
    "version": 3
   },
   "file_extension": ".py",
   "mimetype": "text/x-python",
   "name": "python",
   "nbconvert_exporter": "python",
   "pygments_lexer": "ipython3",
   "version": "3.9.12"
  }
 },
 "nbformat": 4,
 "nbformat_minor": 5
}
