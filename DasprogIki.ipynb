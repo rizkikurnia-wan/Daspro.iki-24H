{
 "cells": [
  {
   "cell_type": "markdown",
   "id": "33d1b98a-d9b4-4ec4-956c-88ac5689555c",
   "metadata": {},
   "source": [
    "<h1>Biodata</h1>"
   ]
  },
  {
   "cell_type": "code",
   "execution_count": 1,
   "id": "1e3b10a7-6639-41b3-8cb2-99aace6cd2d6",
   "metadata": {
    "scrolled": true
   },
   "outputs": [
    {
     "name": "stdin",
     "output_type": "stream",
     "text": [
      "Masukkan Nama Lengkap Anda:  Rizki Kurniawan\n",
      "Masukkan TTL Anda:  05-07-2005\n",
      "Masukkan Alamat Anda:  Kp.Cimanggu Ds.Ciseupan Kec.Caringin\n",
      "Masukkan Jenis Kelamin Anda:  Laki-Laki\n",
      "Masukkan Agama Anda:  Islam\n"
     ]
    },
    {
     "name": "stdout",
     "output_type": "stream",
     "text": [
      "Nama Lengkap : Rizki Kurniawan\n",
      "TTL : 05-07-2005\n",
      "Alamat : Kp.Cimanggu Ds.Ciseupan Kec.Caringin\n",
      "Jenis Kelamin : Laki-Laki\n",
      "Agama : Islam\n"
     ]
    }
   ],
   "source": [
    "NamaLengkap = input(\"Masukkan Nama Lengkap Anda: \")\n",
    "TTL = input(\"Masukkan TTL Anda: \")\n",
    "Alamat = input(\"Masukkan Alamat Anda: \")\n",
    "JenisKelamin = input(\"Masukkan Jenis Kelamin Anda: \")\n",
    "Agama = input(\"Masukkan Agama Anda: \")\n",
    "    \n",
    "print(\"Nama Lengkap : {}\".format(NamaLengkap))\n",
    "print(\"TTL : {}\".format(TTL))\n",
    "print(\"Alamat : {}\".format(Alamat))\n",
    "print(\"Jenis Kelamin : {}\".format(JenisKelamin))\n",
    "print(\"Agama : {}\".format(Agama))"
   ]
  },
  {
   "cell_type": "markdown",
   "id": "35d8b214-a93b-4f81-872b-3222d30758e3",
   "metadata": {},
   "source": [
    "<h1>Kalimat</h1>"
   ]
  },
  {
   "cell_type": "code",
   "execution_count": 3,
   "id": "8ed4728a-5085-4143-893b-8f3f768cbe40",
   "metadata": {},
   "outputs": [
    {
     "name": "stdin",
     "output_type": "stream",
     "text": [
      "Masukkan Kalimat: UNIVERSITAS NUSA PUTRA SUKABUMI\n"
     ]
    },
    {
     "name": "stdout",
     "output_type": "stream",
     "text": [
      "a. putra nusa\n",
      "b. NIVERSITAS NSA PTRA SKABMI\n",
      "c. SUKABUMI PUTRA NUSA UNIVERSITAS\n",
      "d. UNPS\n",
      "e. TAS SAPU BUMI\n"
     ]
    }
   ],
   "source": [
    "#UNIVERSITAS NUSA PUTRA SUKABUMI\n",
    "teks = input(\"Masukkan Kalimat:\")\n",
    "kata = teks.split()\n",
    "\n",
    "# a. putra nusa\n",
    "Output_a = \"{} {}\".format(kata[2].lower(), kata[1].lower())\n",
    "print(\"a.\", Output_a)\n",
    "# b. NIVERSITAS NSA PTRA SKABMI\n",
    "Output_b = \"{} {}{} {}{} {}{}{}\".format(teks[1:11], teks[12],teks[14:16], teks[17],teks[19:22], teks[23],teks[25:28],teks[29:])\n",
    "print(\"b.\", Output_b)\n",
    "# c. SUKABUMI PUTRA NUSA UNIVERSITAS\n",
    "Output_c = \"{} {} {} {}\".format(kata[3], kata[2], kata[1], kata[0])\n",
    "print(\"c.\", Output_c)\n",
    "# d. UNPS\n",
    "Output_d = \"{}{}{}{}\".format(teks[0], teks[12], teks[17], teks[23])\n",
    "print(\"d.\", Output_d)\n",
    "# e. TAS SAPU BUMI\n",
    "Output_e = \"{} {}{} {}\".format(teks[8:11], teks[14:16], teks[17:19], teks[27:])\n",
    "print(\"e.\", Output_e)"
   ]
  },
  {
   "cell_type": "code",
   "execution_count": null,
   "id": "b29a72b1-92ae-42f4-b406-287fdcd657f6",
   "metadata": {},
   "outputs": [],
   "source": []
  }
 ],
 "metadata": {
  "kernelspec": {
   "display_name": "Python 3 (ipykernel)",
   "language": "python",
   "name": "python3"
  },
  "language_info": {
   "codemirror_mode": {
    "name": "ipython",
    "version": 3
   },
   "file_extension": ".py",
   "mimetype": "text/x-python",
   "name": "python",
   "nbconvert_exporter": "python",
   "pygments_lexer": "ipython3",
   "version": "3.12.7"
  }
 },
 "nbformat": 4,
 "nbformat_minor": 5
}
