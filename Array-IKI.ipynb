{
 "cells": [
  {
   "cell_type": "code",
   "execution_count": 52,
   "id": "5413e6eb",
   "metadata": {},
   "outputs": [],
   "source": [
    "import numpy as np"
   ]
  },
  {
   "cell_type": "code",
   "execution_count": 53,
   "id": "28c0e96f",
   "metadata": {},
   "outputs": [],
   "source": [
    "mat1D = np.array([1,2,3,4,5,6,7,8,9])\n",
    "mat2D = np.array([[1,2,3],[4,5,6],[7,8,9]])\n",
    "mat2D10 = mat2D * 10"
   ]
  },
  {
   "cell_type": "code",
   "execution_count": 54,
   "id": "c50e8ec8",
   "metadata": {},
   "outputs": [
    {
     "name": "stdout",
     "output_type": "stream",
     "text": [
      "Matriks 1D :\n",
      "[1 2 3 4 5 6 7 8 9]\n",
      "Matriks 1D indeks ke 7:8\n",
      "Matriks 1D * 10 : [10 20 30 40 50 60 70 80 90]\n"
     ]
    }
   ],
   "source": [
    "print(f\"Matriks 1D :\\n{mat1D}\")\n",
    "print(f\"Matriks 1D indeks ke 7:{mat1D[7]}\")\n",
    "print(f\"Matriks 1D * 10 : {mat1D *10}\")"
   ]
  },
  {
   "cell_type": "code",
   "execution_count": 55,
   "id": "5ef746fb",
   "metadata": {},
   "outputs": [
    {
     "name": "stdout",
     "output_type": "stream",
     "text": [
      "Matriks 2D:\n",
      "[[1 2 3]\n",
      " [4 5 6]\n",
      " [7 8 9]]\n",
      "Matriks 2D * 10 :\n",
      "[[10 20 30]\n",
      " [40 50 60]\n",
      " [70 80 90]]\n",
      "[10 20 30]\n",
      "30\n"
     ]
    }
   ],
   "source": [
    "print(f\"Matriks 2D:\\n{mat2D}\")\n",
    "print(f\"Matriks 2D * 10 :\\n{mat2D * 10}\")\n",
    "print(mat2D10[0])\n",
    "print(mat2D10[0][2])"
   ]
  },
  {
   "cell_type": "code",
   "execution_count": 56,
   "id": "9f44ba64",
   "metadata": {},
   "outputs": [
    {
     "name": "stdout",
     "output_type": "stream",
     "text": [
      "(9,)\n",
      "(3, 3)\n"
     ]
    }
   ],
   "source": [
    "print(mat1D.shape)\n",
    "print(mat2D.shape)"
   ]
  },
  {
   "cell_type": "code",
   "execution_count": 57,
   "id": "6b875bcc",
   "metadata": {},
   "outputs": [
    {
     "name": "stdout",
     "output_type": "stream",
     "text": [
      "Ukuran dari mat1D:9\n",
      "Ukuran dari mat2D:9\n"
     ]
    }
   ],
   "source": [
    "print(f\"Ukuran dari mat1D:{mat1D.size}\")\n",
    "print(f\"Ukuran dari mat2D:{mat2D.size}\")"
   ]
  },
  {
   "cell_type": "code",
   "execution_count": 58,
   "id": "dac2c59c",
   "metadata": {},
   "outputs": [
    {
     "name": "stdout",
     "output_type": "stream",
     "text": [
      "matriks mZero :n\\[[0. 0. 0.]\n",
      " [0. 0. 0.]\n",
      " [0. 0. 0.]]\n",
      "matriks mOne :n\\[[1. 1. 1. ... 1. 1. 1.]\n",
      " [1. 1. 1. ... 1. 1. 1.]\n",
      " [1. 1. 1. ... 1. 1. 1.]\n",
      " ...\n",
      " [1. 1. 1. ... 1. 1. 1.]\n",
      " [1. 1. 1. ... 1. 1. 1.]\n",
      " [1. 1. 1. ... 1. 1. 1.]]\n",
      "matriks mFull :n\\[[7 7 7 7]\n",
      " [7 7 7 7]\n",
      " [7 7 7 7]\n",
      " [7 7 7 7]]\n",
      "matriks mIdentity :n\\[[1. 0. 0. 0.]\n",
      " [0. 1. 0. 0.]\n",
      " [0. 0. 1. 0.]\n",
      " [0. 0. 0. 1.]]\n",
      "matriks mFRandom1D :n\\[[12 59 43 41]\n",
      " [11 35 58 54]\n",
      " [15 63 62 56]\n",
      " [32 31 98 74]]\n",
      "matriks mFRandom2D :n\\[[0.35102668 0.25066615 0.65403457]\n",
      " [0.6411511  0.94835898 0.49440741]\n",
      " [0.41455776 0.6497039  0.75393755]]\n",
      "matriks mFRandom1D :n\\[[12 59 43 41]\n",
      " [11 35 58 54]\n",
      " [15 63 62 56]\n",
      " [32 31 98 74]]\n",
      "matriks mFRandom2D :n\\[[0.35102668 0.25066615 0.65403457]\n",
      " [0.6411511  0.94835898 0.49440741]\n",
      " [0.41455776 0.6497039  0.75393755]]\n"
     ]
    }
   ],
   "source": [
    "#spesial matrix\n",
    "mZero =  np.zeros ((3,3))\n",
    "mOne = np.ones ((3000,3000))\n",
    "mFull = np.full((4,4),7) #membuat array ukuran 4*4 diisi dengan nilai 7\n",
    "mIdentity = np.eye((4))\n",
    "mFRandom1D = np.random.rand(5)\n",
    "mFRandom2D = np.random.rand(3,3)\n",
    "mFRandom1D = np.random.randint(10,100,size=5)\n",
    "mFRandom1D = np.random.randint(10,100,size=(4,4))\n",
    "print(f\"matriks mZero :n\\{mZero}\")\n",
    "print(f\"matriks mOne :n\\{mOne}\")\n",
    "print(f\"matriks mFull :n\\{mFull}\")\n",
    "print(f\"matriks mIdentity :n\\{mIdentity}\")\n",
    "print(f\"matriks mFRandom1D :n\\{mFRandom1D}\")\n",
    "print(f\"matriks mFRandom2D :n\\{mFRandom2D}\")\n",
    "print(f\"matriks mFRandom1D :n\\{mFRandom1D}\")\n",
    "print(f\"matriks mFRandom2D :n\\{mFRandom2D}\")\n",
    "\n",
    "\n"
   ]
  },
  {
   "cell_type": "code",
   "execution_count": 59,
   "id": "ca6a6641",
   "metadata": {},
   "outputs": [
    {
     "name": "stdout",
     "output_type": "stream",
     "text": [
      "Matriks Data:\n",
      "[[1 2 3]\n",
      " [4 5 6]\n",
      " [7 8 9]]\n",
      "Matriks Reshape:\n",
      "[[1]\n",
      " [2]\n",
      " [3]\n",
      " [4]\n",
      " [5]\n",
      " [6]\n",
      " [7]\n",
      " [8]\n",
      " [9]]\n",
      "Matriks mFlat:\n",
      "[1 2 3 4 5 6 7 8 9]\n"
     ]
    }
   ],
   "source": [
    "# Mengubah bentuk array\n",
    "data = np.array([[1,2,3],[4,5,6],[7,8,9]])\n",
    "mshape = data.reshape((9,1))\n",
    "mFlat = data.flatten()\n",
    "\n",
    "print(F\"Matriks Data:\\n{data}\")\n",
    "print(F\"Matriks Reshape:\\n{mshape}\")\n",
    "print(F\"Matriks mFlat:\\n{mFlat}\")\n"
   ]
  },
  {
   "cell_type": "code",
   "execution_count": 60,
   "id": "ac12d828",
   "metadata": {},
   "outputs": [
    {
     "name": "stdout",
     "output_type": "stream",
     "text": [
      "Hasil dari dot product:69\n",
      "Hasil penjumlahan matriks:\n",
      "[ 3  7 10 13]\n",
      "Nilai minimum : 2\n",
      "Nilai Maksimum:9\n",
      "Nilai Rata-Rata:5.75\n",
      "Nilai Total:23\n",
      "Nilai Deviasi:2.5860201081971503\n"
     ]
    }
   ],
   "source": [
    "#Deskriptif Statistik\n",
    "x = np.array([1,2,3,4])\n",
    "y = np.array([2,5,7,9])\n",
    "\n",
    "#Menghitung dot product\n",
    "r1 = np.dot(x,y)\n",
    "r2 = np.add(x,y)\n",
    "print(f\"Hasil dari dot product:{r1}\")\n",
    "print(f\"Hasil penjumlahan matriks:\\n{r2}\")\n",
    "print(f\"Nilai minimum : {y.min()}\")\n",
    "print(f\"Nilai Maksimum:{y.max()}\")\n",
    "print(f\"Nilai Rata-Rata:{y.mean()}\")\n",
    "print(f\"Nilai Total:{y.sum()}\")\n",
    "print(f\"Nilai Deviasi:{y.std()}\")"
   ]
  },
  {
   "cell_type": "code",
   "execution_count": 61,
   "id": "f8728d01",
   "metadata": {},
   "outputs": [
    {
     "name": "stdout",
     "output_type": "stream",
     "text": [
      "[100  90 100  80]\n",
      "Mahasiswa yang lulus sebanyak :4\n",
      "Mahasiswa yang tidak lulus : 4\n"
     ]
    }
   ],
   "source": [
    "#Filtering\n",
    "\n",
    "nilaiPemrograman = np.array([100,90,100,80,50,50,50,40])\n",
    "#Tampilkan nilai pemrograman yang lebih dari 50 -> lulus\n",
    "#berapakah jumlah mahasiswa yang lulus\n",
    "jmlLuLus = nilaiPemrograman[nilaiPemrograman > 50]\n",
    "print(jmlLuLus)\n",
    "print(f\"Mahasiswa yang lulus sebanyak :{jmlLuLus.size}\")\n",
    "print(f\"Mahasiswa yang tidak lulus : {nilaiPemrograman.size-jmlLuLus.size}\")"
   ]
  },
  {
   "cell_type": "markdown",
   "id": "76230f19",
   "metadata": {},
   "source": [
    "<b> Project Generate Data</b> <br>\n",
    "Buatlah 1000 Data Customer CC, yang akan di gunakan untuk prediksi atau \n",
    "klasifikasi yaitu:\n",
    "</ol>\n",
    "    <li>usia : 17-60 </li>\n",
    "    <li> Gender : l/P</li>\n",
    "    <li>Transaksi perbulan : 0-50</li>\n",
    "</ol>"
   ]
  },
  {
   "cell_type": "code",
   "execution_count": 68,
   "id": "4359ca20",
   "metadata": {},
   "outputs": [
    {
     "name": "stdout",
     "output_type": "stream",
     "text": [
      "     usia gender  transaksi pembayaran\n",
      "0      42      L         43     Sedang\n",
      "1      17      L         12      Bagus\n",
      "2      51      L          4     Sedang\n",
      "3      37      L         43     Sedang\n",
      "4      52      L          8     Sedang\n",
      "..    ...    ...        ...        ...\n",
      "995    59      L         13      Bagus\n",
      "996    35      P         38      Bagus\n",
      "997    58      L          9      Bagus\n",
      "998    58      P         24      Bagus\n",
      "999    44      L          8     Sedang\n",
      "\n",
      "[1000 rows x 4 columns]\n",
      "<class 'pandas.core.frame.DataFrame'>\n",
      "RangeIndex: 1000 entries, 0 to 999\n",
      "Data columns (total 4 columns):\n",
      " #   Column      Non-Null Count  Dtype \n",
      "---  ------      --------------  ----- \n",
      " 0   usia        1000 non-null   int32 \n",
      " 1   gender      1000 non-null   object\n",
      " 2   transaksi   1000 non-null   int32 \n",
      " 3   pembayaran  1000 non-null   object\n",
      "dtypes: int32(2), object(2)\n",
      "memory usage: 23.6+ KB\n",
      "None\n",
      "   usia gender  transaksi pembayaran\n",
      "0    42      L         43     Sedang\n",
      "1    17      L         12      Bagus\n",
      "2    51      L          4     Sedang\n",
      "3    37      L         43     Sedang\n",
      "4    52      L          8     Sedang\n",
      "Usia Customer termuda:17\n",
      "Usia Customer tertua:60\n",
      "bumlah Customer Laki-laki: {jmlL.size}\n"
     ]
    }
   ],
   "source": [
    "import numpy as np \n",
    "import pandas as pd\n",
    "\n",
    "jmlData = 1000\n",
    "usia = np.random. randint(17,61,size=jmlData)\n",
    "gender = np.random.choice(['L','P'],size=jmlData)\n",
    "transaksi = np. random. randint (0,51,size=jmlData)\n",
    "pembayaran = np.random.choice(['Buruk','Sedang','Bagus'],size=jmlData)\n",
    "\n",
    "df = pd.DataFrame({\n",
    "    'usia' : usia,\n",
    "    'gender': gender,\n",
    "    'transaksi' : transaksi,\n",
    "    'pembayaran' : pembayaran\n",
    "})\n",
    "\n",
    "print(df)\n",
    "print(df.info()) #Menampilkan karakteristik data\n",
    "print(df.head()) #Menampilkan isi tabel 5 baris pertama\n",
    "#tampilkan usia yang paling muda\n",
    "print(f\"Usia Customer termuda:{df['usia'].min()}\")\n",
    "print(f\"Usia Customer tertua:{df['usia'].max()}\")\n",
    "#Tampilkan jumlah customer yang Laki-laki\n",
    "jmlL = df[df['gender']=='L']\n",
    "print (\"bumlah Customer Laki-laki: {jmlL.size}\")\n",
    "df. to_csv(\"dataCustomer.csv\")"
   ]
  },
  {
   "cell_type": "code",
   "execution_count": null,
   "id": "ebbae601",
   "metadata": {},
   "outputs": [],
   "source": []
  }
 ],
 "metadata": {
  "kernelspec": {
   "display_name": "Python 3 (ipykernel)",
   "language": "python",
   "name": "python3"
  },
  "language_info": {
   "codemirror_mode": {
    "name": "ipython",
    "version": 3
   },
   "file_extension": ".py",
   "mimetype": "text/x-python",
   "name": "python",
   "nbconvert_exporter": "python",
   "pygments_lexer": "ipython3",
   "version": "3.9.12"
  }
 },
 "nbformat": 4,
 "nbformat_minor": 5
}
